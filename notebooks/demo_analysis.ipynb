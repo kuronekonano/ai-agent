{
 "cells": [
  {
   "cell_type": "markdown",
   "metadata": {},
   "source": [
    "# AI Agent Framework - Demo Analysis\n",
    "\n",
    "This notebook demonstrates the capabilities of the AI Agent Framework with ReAct pattern implementation."
   ]
  },
  {
   "cell_type": "markdown",
   "metadata": {},
   "source": [
    "## Installation and Setup\n",
    "\n",
    "First, let's install the package in development mode:"
   ]
  },
  {
   "cell_type": "code",
   "execution_count": null,
   "metadata": {},
   "outputs": [],
   "source": [
    "%pip install -e .."
   ]
  },
  {
   "cell_type": "markdown",
   "metadata": {},
   "source": [
    "## Import Libraries"
   ]
  },
  {
   "cell_type": "code",
   "execution_count": null,
   "metadata": {},
   "outputs": [],
   "source": [
    "import sys\n",
    "import os\n",
    "sys.path.insert(0, os.path.abspath('..'))\n",
    "\n",
    "from src.ai_agent import ReActEngine, load_config, Visualizer, Analyzer\n",
    "from rich import print\n",
    "import json"
   ]
  },
  {
   "cell_type": "markdown",
   "metadata": {},
   "source": [
    "## Load Configuration"
   ]
  },
  {
   "cell_type": "code",
   "execution_count": null,
   "metadata": {},
   "outputs": [],
   "source": [
    "# Load configuration\n",
    "config = load_config()\n",
    "print('Configuration loaded successfully!')\n",
    "print(f'Model: {config[\"openai\"][\"model\"]}')\n",
    "print(f'Max iterations: {config[\"agent\"].get(\"max_iterations\", 10)}') "
   ]
  },
  {
   "cell_type": "markdown",
   "metadata": {},
   "source": [
    "## Initialize the AI Agent"
   ]
  },
  {
   "cell_type": "code",
   "execution_count": null,
   "metadata": {},
   "outputs": [],
   "source": [
    "# Create the ReAct engine\n",
    "agent = ReActEngine(config)\n",
    "print('🤖 AI Agent initialized successfully!')\n",
    "print(f'Available tools: {agent.tool_registry.get_available_tools()}') "
   ]
  },
  {
   "cell_type": "markdown",
   "metadata": {},
   "source": [
    "## Run a Simple Task"
   ]
  },
  {
   "cell_type": "code",
   "execution_count": null,
   "metadata": {},
   "source": [
    "# Define a simple task\n",
    "task = \"Calculate the sum of the first 10 prime numbers and save the result to a file\"\n",
    "\n",
    "print(f'🎯 Task: {task}')\n",
    "print('Starting execution...')\n",
    "\n",
    "# Execute the task\n",
    "result = agent.run(task)\n",
    "print('\\n✅ Task completed!')\n",
    "print(f'Result: {result}') "
   ]
  },
  {
   "cell_type": "markdown",
   "metadata": {},
   "source": [
    "## Analyze the Execution Trajectory"
   ]
  },
  {
   "cell_type": "code",
   "execution_count": null,
   "metadata": {},
   "source": [
    "# Get the execution trajectory\n",
    "trajectory = agent.get_trajectory()\n",
    "\n",
    "# Initialize visualizer and analyzer\n",
    "visualizer = Visualizer()\n",
    "analyzer = Analyzer()\n",
    "\n",
    "# Show trajectory overview\n",
    "visualizer.show_trajectory(trajectory)\n",
    "\n",
    "# Show analysis\n",
    "visualizer.show_analysis(trajectory)\n",
    "\n",
    "# Show final result\n",
    "visualizer.show_final_result(trajectory) "
   ]
  },
  {
   "cell_type": "markdown",
   "metadata": {},
   "source": [
    "## Detailed Step Analysis"
   ]
  },
  {
   "cell_type": "code",
   "execution_count": null,
   "metadata": {},
   "source": [
    "# Show detailed step-by-step analysis\n",
    "visualizer.show_trajectory(trajectory, detailed=True) "
   ]
  },
  {
   "cell_type": "markdown",
   "metadata": {},
   "source": [
    "## Export Analysis Report"
   ]
  },
  {
   "cell_type": "code",
   "execution_count": null,
   "metadata": {},
   "source": [
    "# Generate and display analysis report\n",
    "report = analyzer.generate_report(trajectory)\n",
    "print(report) "
   ]
  },
  {
   "cell_type": "markdown",
   "metadata": {},
   "source": [
    "## Save Trajectory for Later Analysis"
   ]
  },
  {
   "cell_type": "code",
   "execution_count": null,
   "metadata": {},
   "source": [
    "# Save trajectory to file\n",
    "trajectory_path = 'demo_trajectory.json'\n",
    "agent.trajectory_recorder.save_to_file(trajectory_path)\n",
    "print(f'Trajectory saved to: {trajectory_path}') "
   ]
  },
  {
   "cell_type": "markdown",
   "metadata": {},
   "source": [
    "## Load and Analyze Saved Trajectory"
   ]
  },
  {
   "cell_type": "code",
   "execution_count": null,
   "metadata": {},
   "source": [
    "# Load trajectory from file\n",
    "from src.ai_agent.trajectory import TrajectoryRecorder\n",
    "\n",
    "loaded_recorder = TrajectoryRecorder()\n",
    "loaded_recorder.load_from_file(trajectory_path)\n",
    "loaded_trajectory = loaded_recorder.get_trajectory()\n",
    "\n",
    "print('Loaded trajectory analysis:')\n",
    "visualizer.show_analysis(loaded_trajectory) "
   ]
  },
  {
   "cell_type": "markdown",
   "metadata": {},
   "source": [
    "## Create Visualization Timeline"
   ]
  },
  {
   "cell_type": "code",
   "execution_count": null,
   "metadata": {},
   "source": [
    "# Create a visual timeline of the execution\n",
    "visualizer.create_timeline(trajectory) "
   ]
  },
  {
   "cell_type": "markdown",
   "metadata": {},
   "source": [
    "## Run Multiple Tasks and Compare"
   ]
  },
  {
   "cell_type": "code",
   "execution_count": null,
   "metadata": {},
   "source": [
    "# Define multiple tasks for comparison\n",
    "tasks = [\n",
    "    \"Calculate the factorial of 5\",\n",
    "    \"Find the square root of 144 and save to a file\",\n",
    "    \"Create a file with the first 5 Fibonacci numbers\"\n",
    "]\n",
    "\n",
    "trajectories = []\n",
    "\n",
    "for i, task in enumerate(tasks):\n",
    "    print(f'\\n🚀 Running task {i+1}: {task}')\n",
    "    \n",
    "    # Reset agent for new task\n",
    "    agent.reset()\n",
    "    \n",
    "    # Execute task\n",
    "    result = agent.run(task)\n",
    "    trajectories.append(agent.get_trajectory())\n",
    "    \n",
    "    print(f'✅ Result: {result[:100]}...' if len(result) > 100 else f'✅ Result: {result}')\n",
    "\n",
    "print('\\n📊 Comparative Analysis:')\n",
    "comparison = analyzer.compare_trajectories(trajectories)\n",
    "print(f'Success rate: {comparison[\"success_rate\"] * 100:.1f}%')\n",
    "print(f'Average steps: {comparison[\"avg_steps\"]:.1f}')\n",
    "print(f'Average duration: {comparison[\"avg_duration\"]:.2f} seconds') "
   ]
  },
  {
   "cell_type": "markdown",
   "metadata": {},
   "source": [
    "## Advanced: Custom Tool Demonstration"
   ]
  },
  {
   "cell_type": "code",
   "execution_count": null,
   "metadata": {},
   "source": [
    "# Demonstrate individual tool usage\n",
    "from src.ai_agent.tools import CalculatorTool, FileTool\n",
    "\n",
    "calculator = CalculatorTool()\n",
    "file_tool = FileTool()\n",
    "\n",
    "# Use calculator\n",
    "result = calculator.execute(operation='evaluate', expression='2 + 3 * 4')\n",
    "print(f'Calculator result: {result}')\n",
    "\n",
    "# Use file tool\n",
    "test_content = 'Hello from AI Agent!\\nThis is a test file.'\n",
    "result = file_tool.execute(operation='write', path='test_output.txt', content=test_content)\n",
    "print(f'File tool result: {result}')\n",
    "\n",
    "# Read back the file\n",
    "content = file_tool.execute(operation='read', path='test_output.txt')\n",
    "print(f'File content: {content}') "
   ]
  },
  {
   "cell_type": "markdown",
   "metadata": {},
   "source": [
    "## Conclusion\n",
    "\n",
    "This demo展示了 the capabilities of the AI Agent Framework:\n",
    "\n",
    "1. **ReAct Pattern Implementation**: Reasoning and acting loop for autonomous task execution\n",
    "2. **Tool System**: Extensible tools for file operations, calculations, and more\n",
    "3. **Trajectory Tracking**: Complete execution history with detailed analysis\n",
    "4. **Visualization**: Rich visualizations for execution analysis\n",
    "5. **Persistence**: Save and load execution trajectories\n",
    "\n",
    "The framework provides a solid foundation for building autonomous AI agents that can solve complex tasks through systematic reasoning and tool usage."
   ]
  }
 ],
 "metadata": {
  "kernelspec": {
   "display_name": "Python 3",
   "language": "python",
   "name": "python3"
  },
  "language_info": {
   "codemirror_mode": {
    "name": "ipython",
    "version": 3
   },
   "file_extension": ".py",
   "mimetype": "text/x-python",
   "name": "python",
   "nbconvert_exporter": "python",
   "pygments_lexifier": "ipython3",
   "version": "3.13.0"
  }
 },
 "nbformat": 4,
 "nbformat_minor": 2
}